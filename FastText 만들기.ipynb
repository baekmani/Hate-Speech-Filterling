{
 "cells": [
  {
   "cell_type": "code",
   "execution_count": 4,
   "id": "39cedacd-2030-4a4e-920a-294db9ec06c4",
   "metadata": {},
   "outputs": [],
   "source": [
    "import re\n",
    "import pandas as pd"
   ]
  },
  {
   "cell_type": "code",
   "execution_count": 23,
   "id": "0ed3d71b-69a7-403e-9f93-adbeb00f06ce",
   "metadata": {},
   "outputs": [],
   "source": [
    "all_Sentences = pd.read_csv('hate_all.csv')\n",
    "all_Sentences = all_Sentences['comments']\n",
    "\n",
    "pattern = re.compile(\"[^ㄱ-ㅎㅏ-ㅣ가-힣0-9a-zA-Z ]\")\n",
    "\n",
    "def clear(text):\n",
    "    text = re.sub(pattern, \"\", text)\n",
    "    return text\n",
    "\n",
    "all_Sentences = all_Sentences.apply(clear)"
   ]
  },
  {
   "cell_type": "code",
   "execution_count": 24,
   "id": "ab90bb3c-5db1-4f6c-952c-25c21284bff6",
   "metadata": {},
   "outputs": [],
   "source": [
    "# 문자를 초성 / 중성/ 종성으로 분리\n",
    "\n",
    "def split(result):    \n",
    "    '''\n",
    "    초성 중성 종성 나누기\n",
    "    '''\n",
    "    consonant_ord_list = [ord(char) for char in \"ㄱㄲㄴㄷㄸㄹㅁㅂㅃㅅㅆㅇㅈㅉㅊㅋㅌㅍㅎ\"] #초성 유니코드 리스트\n",
    "    choseong_list = [char for char in \"ㄱㄲㄴㄷㄸㄹㅁㅂㅃㅅㅆㅇㅈㅉㅊㅋㅌㅍㅎ\"] #초성리스트\n",
    "    jungseong_list = [char for char in \"ㅏㅐㅑㅒㅓㅔㅕㅖㅗㅘㅙㅚㅛㅜㅝㅞㅟㅠㅡㅢㅣ\"] #중성 리스트\n",
    "    jongseong_list = [char for char in \"-ㄱㄲㄳㄴㄵㄶㄷㄹㄺㄻㄼㄽㄾㄿㅀㅁㅂㅄㅅㅆㅇㅈㅊㅋㅌㅍㅎ\"] #종성 리스트\n",
    "    tmp = []\n",
    "    \n",
    "    for char in result:\n",
    "        if ord(char)==32: #띄어쓰기인 경우\n",
    "            tmp.append(char)\n",
    "            \n",
    "        elif 48<=ord(char)<=57: #숫자인 경우\n",
    "            tmp.append(char)\n",
    "            \n",
    "        elif consonant_ord_list.count(char) == 0:\n",
    "            character_code = ord(char)\n",
    "            \n",
    "            if (55203 < character_code or character_code < 44032):\n",
    "                continue\n",
    "                \n",
    "            code = 44032\n",
    "            choseong_index = (character_code - code) // 21 // 28\n",
    "            jungseong_index = (character_code - code - (choseong_index * 21 * 28)) // 28\n",
    "            jongseong_index = character_code - code - (choseong_index * 21 *  28) - (jungseong_index * 28)\n",
    "            tmp.append(choseong_list[choseong_index])\n",
    "            tmp.append(jungseong_list[jungseong_index])\n",
    "            tmp.append(jongseong_list[jongseong_index])\n",
    "            \n",
    "        else:\n",
    "            choseong_index = consonant_ord_list.index(ord(char))\n",
    "            tmp.append(choseong_list[choseong_index])\n",
    "            tmp.append(\"-\")\n",
    "            tmp.append(\"-\")\n",
    "            \n",
    "    result = \"\".join(tmp)\n",
    "   \n",
    "    return result\n",
    "\n",
    "all_Sentences = all_Sentences.apply(split)\n",
    "all_Sentences = all_Sentences.apply(lambda x: x.split(\" \"))\n",
    "sentence = list(all_Sentences)"
   ]
  },
  {
   "cell_type": "code",
   "execution_count": 26,
   "id": "6cdcb2e6-0d35-4759-bac3-e1bc2662303a",
   "metadata": {},
   "outputs": [],
   "source": [
    "# 커스텀 FastText 만들기\n",
    "from gensim.models import FastText\n",
    "\n",
    "model = FastText(sentence, vector_size=2100, window=2, min_count=2, workers=4, sg=1, min_n=3, max_n=6, epochs=10)"
   ]
  },
  {
   "cell_type": "code",
   "execution_count": 34,
   "id": "91f1369b-4fbd-4ad6-9504-81dc0b0e7e29",
   "metadata": {},
   "outputs": [],
   "source": [
    "model.save(\"./festtext.model\")"
   ]
  },
  {
   "cell_type": "code",
   "execution_count": null,
   "id": "4c6c6016-f10c-433f-8044-be73cb2f8fba",
   "metadata": {},
   "outputs": [],
   "source": []
  }
 ],
 "metadata": {
  "kernelspec": {
   "display_name": "Python 3 (ipykernel)",
   "language": "python",
   "name": "python3"
  },
  "language_info": {
   "codemirror_mode": {
    "name": "ipython",
    "version": 3
   },
   "file_extension": ".py",
   "mimetype": "text/x-python",
   "name": "python",
   "nbconvert_exporter": "python",
   "pygments_lexer": "ipython3",
   "version": "3.8.8"
  }
 },
 "nbformat": 4,
 "nbformat_minor": 5
}
