{
 "cells": [
  {
   "cell_type": "code",
   "execution_count": null,
   "id": "db91bcf9-f234-48b0-a8f8-d90a29ff45b0",
   "metadata": {},
   "outputs": [],
   "source": [
    "import os\n",
    "current_path = os.getcwd()\n",
    "print(current_path)\n",
    "# 구글드라이브와 연결\n",
    "from google.colab import drive\n",
    "drive.mount('/content/drive')"
   ]
  },
  {
   "cell_type": "code",
   "execution_count": null,
   "id": "5de92615-1ce9-4a14-a021-476c93d86aa6",
   "metadata": {},
   "outputs": [],
   "source": [
    "import re # 정규화 용\n",
    "import pandas as pd\n",
    "import numpy as np\n",
    "from sklearn.feature_extraction.text import TfidfVectorizer\n",
    "from sklearn.model_selection import train_test_split\n",
    "from Data_preprocessing import data_split\n",
    "import joblib\n",
    "from sklearn.metrics import *"
   ]
  },
  {
   "cell_type": "code",
   "execution_count": null,
   "id": "1d63f926-dc5f-4789-976a-e3b0290e9c16",
   "metadata": {},
   "outputs": [],
   "source": [
    "# 쓸데없는 문자 없애는 코드\n",
    "\n",
    "def apply_preprocessing(sentence):\n",
    "    import re\n",
    "    '''\n",
    "    영어, 숫자, 한글(온전한 문자)을 제외한 나머지 제거\n",
    "    '''\n",
    "    result = ''.join(re.compile('[ㄱ-ㅎㅏ-ㅣ가-힣0-9a-zA-Z ]').\\\n",
    "             findall(sentence)).strip()\n",
    "    \n",
    "    return result"
   ]
  },
  {
   "cell_type": "code",
   "execution_count": null,
   "id": "1dc0aee0-79c5-42f8-b58e-2c66254309d1",
   "metadata": {},
   "outputs": [],
   "source": [
    "data = pd.read_json(\"/content/drive/MyDrive/big/json_data.json\")\n",
    "data.columns = [\"comments\", \"hate\"]"
   ]
  },
  {
   "cell_type": "code",
   "execution_count": null,
   "id": "7f88f2a5-5314-4ec4-8f16-8e7c4a8071ab",
   "metadata": {},
   "outputs": [],
   "source": [
    "# FastText용 데이터 섞기\n",
    "data = data.iloc[np.random.permutation(data.index)].reset_index(drop=True)\n",
    "\n",
    "y = data.pop('hate')\n",
    "x = data\n",
    "\n",
    "x_train = x['comments'][:16000]\n",
    "x_val = x['comments'][16000:]\n",
    "\n",
    "y_train = y[:16000]\n",
    "y_val = y[16000:]"
   ]
  },
  {
   "cell_type": "code",
   "execution_count": null,
   "id": "f1d6ac51-e53b-4c89-8267-689702b4bca4",
   "metadata": {},
   "outputs": [],
   "source": [
    "# 데이터 배열 형태로 만들기\n",
    "def change(data):\n",
    "    tmp = []\n",
    "\n",
    "    for comment in data:\n",
    "        tmp.append(comment)\n",
    "    tmp = np.array(tmp)\n",
    "    return tmp\n",
    "\n",
    "x_train = change(x_train)\n",
    "x_val = change(x_val)\n",
    "y_train = change(y_train)\n",
    "y_val = change(y_val)"
   ]
  },
  {
   "cell_type": "code",
   "execution_count": null,
   "id": "1b13cd64-f1b8-4c0b-b6b2-9c057522413f",
   "metadata": {},
   "outputs": [],
   "source": [
    "# 랜덤포레스트 모델 만들기\n",
    "\n",
    "from sklearn.ensemble import RandomForestClassifier\n",
    "\n",
    "rf = RandomForestClassifier(n_estimators=80, max_depth=28, min_samples_leaf=1, min_samples_split=2,\n",
    "                             random_state=1)\n",
    "\n",
    "rf.fit(x_train, y_train)\n",
    "\n",
    "y_pred = rf.predict(x_val)\n",
    "print(classification_report(y_val, y_pred))"
   ]
  }
 ],
 "metadata": {
  "kernelspec": {
   "display_name": "Python 3 (ipykernel)",
   "language": "python",
   "name": "python3"
  },
  "language_info": {
   "codemirror_mode": {
    "name": "ipython",
    "version": 3
   },
   "file_extension": ".py",
   "mimetype": "text/x-python",
   "name": "python",
   "nbconvert_exporter": "python",
   "pygments_lexer": "ipython3",
   "version": "3.8.8"
  }
 },
 "nbformat": 4,
 "nbformat_minor": 5
}
