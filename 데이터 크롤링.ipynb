{
 "cells": [
  {
   "cell_type": "code",
   "execution_count": 4,
   "id": "ed8d80b3-2277-4b61-b8cd-a40db035c406",
   "metadata": {},
   "outputs": [],
   "source": [
    "# 비속어 사전 호출\n",
    "file_path = \"badword.txt\"\n",
    "\n",
    "with open(file_path, encoding= 'UTF8') as f:\n",
    "    lines = f.readlines()\n",
    "\n",
    "lines = [line.rstrip('\\n') for line in lines]"
   ]
  },
  {
   "cell_type": "code",
   "execution_count": null,
   "id": "3701c11b-07a1-4873-9a96-7728af600743",
   "metadata": {},
   "outputs": [],
   "source": [
    "# 비속어 게시글 가져오는 함수\n",
    "import requests\n",
    "from urllib import request\n",
    "from bs4 import BeautifulSoup\n",
    "\n",
    "\n",
    "BASE_URL = \"https://gall.dcinside.com/board/lists\"\n",
    "ARTICLE_BASE_URL = \"https://gall.dcinside.com\"\n",
    "\n",
    "# 헤더 설정\n",
    "headers = [ {'User-Agent' : 'User-Agent'}, ]\n",
    "\n",
    "bad = [] \n",
    "\n",
    "pageList = ['dcbest', 'baseball_new10', 'stream_new1', 'ib_new2', \n",
    "            'w_entertainer', 'm_entertainer_new1', 'drama_new3']\n",
    "            \n",
    "# 한 갤러리당 3000 페이지만 확인 -> 1페이지 당 1개씩\n",
    "for gall in pageList:\n",
    "    print(gall)\n",
    "    print(\"_--------------------------------------------------------------------_\")\n",
    "    for i in range(1, 3000):\n",
    "        params = {'id': gall,'page':i}\n",
    "\n",
    "        response = requests.get(BASE_URL, params=params, headers=headers[0], )\n",
    "\n",
    "        soup = BeautifulSoup(response.content, 'html.parser')\n",
    "\n",
    "        article_list = soup.find('tbody').find_all('tr')\n",
    "\n",
    "\n",
    "        for tr_item in article_list:\n",
    "\n",
    "            title_tag = tr_item.find('a', href=True)\n",
    "            title = title_tag.text\n",
    "\n",
    "            for tmp in title.split():\n",
    "                if tmp in lines:\n",
    "                    bad.append(title)\n",
    "                    break\n",
    "\n",
    "        print(len(bad), i) # 욕 / 거쳐간 게시글\n"
   ]
  },
  {
   "cell_type": "code",
   "execution_count": null,
   "id": "7999f556-9578-4964-9022-44347752928f",
   "metadata": {},
   "outputs": [],
   "source": [
    "import pandas as pd\n",
    "df = pd.DataFrame({'comments' : bad, 'hate' : 1})\n",
    "df"
   ]
  },
  {
   "cell_type": "code",
   "execution_count": null,
   "id": "f495734f-8e37-4475-952f-10c51ee2b800",
   "metadata": {},
   "outputs": [],
   "source": [
    "df.to_csv('hate_all.csv')"
   ]
  },
  {
   "cell_type": "code",
   "execution_count": null,
   "id": "99e59f84-eb55-4ee1-94f0-a87e4fc6af33",
   "metadata": {},
   "outputs": [],
   "source": []
  },
  {
   "cell_type": "code",
   "execution_count": null,
   "id": "0c7bf4e0-95d0-4d47-b56a-3391efa61348",
   "metadata": {},
   "outputs": [],
   "source": [
    "# 훈련 / 테스트 데이터 분리\n",
    "from sklearn.model_selection import train_test_split\n",
    "train, test = train_test_split(data, test_size = 0.15, random_state=42)\n",
    "\n",
    "train.to_csv('hate_train.csv')\n",
    "test.to_csv('hate_test.csv')"
   ]
  }
 ],
 "metadata": {
  "kernelspec": {
   "display_name": "Python 3 (ipykernel)",
   "language": "python",
   "name": "python3"
  },
  "language_info": {
   "codemirror_mode": {
    "name": "ipython",
    "version": 3
   },
   "file_extension": ".py",
   "mimetype": "text/x-python",
   "name": "python",
   "nbconvert_exporter": "python",
   "pygments_lexer": "ipython3",
   "version": "3.8.8"
  }
 },
 "nbformat": 4,
 "nbformat_minor": 5
}
