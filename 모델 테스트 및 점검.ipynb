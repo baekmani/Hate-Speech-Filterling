{
 "cells": [
  {
   "cell_type": "code",
   "execution_count": null,
   "id": "ed425b24-4d7e-490c-a2ff-e8e4a1828969",
   "metadata": {},
   "outputs": [],
   "source": [
    "# 다문장 테스트기"
   ]
  },
  {
   "cell_type": "code",
   "execution_count": 1,
   "id": "e4f651bc-826f-4e07-a1a3-4257a45c7534",
   "metadata": {},
   "outputs": [],
   "source": [
    "import re # 정규화 용\n",
    "import pandas as pd\n",
    "import numpy as np\n",
    "from sklearn.feature_extraction.text import TfidfVectorizer\n",
    "from sklearn.model_selection import train_test_split\n",
    "from Data_preprocessing import data_split\n",
    "import joblib\n",
    "from sklearn.metrics import *"
   ]
  },
  {
   "cell_type": "code",
   "execution_count": 2,
   "id": "ca4c0528-29a0-461f-9d87-59f87c2391b5",
   "metadata": {},
   "outputs": [
    {
     "name": "stderr",
     "output_type": "stream",
     "text": [
      "C:\\Users\\User\\anaconda3\\lib\\site-packages\\xgboost\\compat.py:36: FutureWarning: pandas.Int64Index is deprecated and will be removed from pandas in a future version. Use pandas.Index with the appropriate dtype instead.\n",
      "  from pandas import MultiIndex, Int64Index\n"
     ]
    }
   ],
   "source": [
    "model = joblib.load('xgb.pkl')\n",
    "vector = joblib.load('vector.pkl')"
   ]
  },
  {
   "cell_type": "code",
   "execution_count": 3,
   "id": "539c7b9f-bb9e-43c6-b22e-cc040349b126",
   "metadata": {},
   "outputs": [],
   "source": [
    "# 쓸데없는 문자 없애는 코드\n",
    "\n",
    "def apply_preprocessing(sentence):\n",
    "    import re\n",
    "    '''\n",
    "    영어, 숫자, 한글(온전한 문자)을 제외한 나머지 제거\n",
    "    '''\n",
    "    result = ''.join(re.compile('[ㄱ-ㅎㅏ-ㅣ가-힣0-9a-zA-Z ]').\\\n",
    "             findall(sentence)).strip()\n",
    "    \n",
    "    return result"
   ]
  },
  {
   "cell_type": "code",
   "execution_count": 19,
   "id": "ef8c7c61-76bd-4efb-8452-d01850aa84c5",
   "metadata": {},
   "outputs": [],
   "source": [
    "text = [\n",
    "        '왜 저 아무개는 저따구로 연예인질 하면서 쳐 안뒤지냐',\n",
    "        '저 공놀이하는 새끼들 나가 뒤져라',\n",
    "        '나라에 도둑놈 새끼들이 많다.',\n",
    "        'KT 채용 공고 공유합니다.',\n",
    "        '이 나라는 이현호가 지배한다.',\n",
    "        '솔직히 네카라 보다는 KT가 좋은듯']"
   ]
  },
  {
   "cell_type": "code",
   "execution_count": 20,
   "id": "1ffc58c1-9869-48d3-a4ba-9438e3a5a451",
   "metadata": {},
   "outputs": [],
   "source": [
    "test = []\n",
    "\n",
    "for comment in text:\n",
    "    comment = apply_preprocessing(comment) # 전처리\n",
    "    comment = data_split(comment)\n",
    "    \n",
    "    test.append(comment)\n",
    "\n",
    "test_inputs = vector.transform(test)"
   ]
  },
  {
   "cell_type": "code",
   "execution_count": 21,
   "id": "6df610f6-6a82-43b0-99b7-eedcd27b06d5",
   "metadata": {},
   "outputs": [],
   "source": [
    "y_pred = model.predict(test_inputs)\n",
    "predict = np.where(y_pred == 1, '비속어', '저장')"
   ]
  },
  {
   "cell_type": "code",
   "execution_count": 23,
   "id": "d1e2dacd-5ba2-4aea-a0b9-dbdeb6108699",
   "metadata": {},
   "outputs": [
    {
     "data": {
      "text/html": [
       "<div>\n",
       "<style scoped>\n",
       "    .dataframe tbody tr th:only-of-type {\n",
       "        vertical-align: middle;\n",
       "    }\n",
       "\n",
       "    .dataframe tbody tr th {\n",
       "        vertical-align: top;\n",
       "    }\n",
       "\n",
       "    .dataframe thead th {\n",
       "        text-align: right;\n",
       "    }\n",
       "</style>\n",
       "<table border=\"1\" class=\"dataframe\">\n",
       "  <thead>\n",
       "    <tr style=\"text-align: right;\">\n",
       "      <th></th>\n",
       "      <th>게시글</th>\n",
       "      <th>상태</th>\n",
       "    </tr>\n",
       "  </thead>\n",
       "  <tbody>\n",
       "    <tr>\n",
       "      <th>0</th>\n",
       "      <td>왜 저 아무개는 저따구로 연예인질 하면서 쳐 안뒤지냐</td>\n",
       "      <td>비속어</td>\n",
       "    </tr>\n",
       "    <tr>\n",
       "      <th>1</th>\n",
       "      <td>저 공놀이하는 새끼들 나가 뒤져라</td>\n",
       "      <td>비속어</td>\n",
       "    </tr>\n",
       "    <tr>\n",
       "      <th>2</th>\n",
       "      <td>나라에 도둑놈 새끼들이 많다.</td>\n",
       "      <td>비속어</td>\n",
       "    </tr>\n",
       "    <tr>\n",
       "      <th>3</th>\n",
       "      <td>KT 채용 공고 공유합니다.</td>\n",
       "      <td>저장</td>\n",
       "    </tr>\n",
       "    <tr>\n",
       "      <th>4</th>\n",
       "      <td>이 나라는 이현호가 지배한다.</td>\n",
       "      <td>저장</td>\n",
       "    </tr>\n",
       "    <tr>\n",
       "      <th>5</th>\n",
       "      <td>솔직히 네카라 보다는 KT가 좋은듯</td>\n",
       "      <td>저장</td>\n",
       "    </tr>\n",
       "  </tbody>\n",
       "</table>\n",
       "</div>"
      ],
      "text/plain": [
       "                             게시글   상태\n",
       "0  왜 저 아무개는 저따구로 연예인질 하면서 쳐 안뒤지냐  비속어\n",
       "1             저 공놀이하는 새끼들 나가 뒤져라  비속어\n",
       "2               나라에 도둑놈 새끼들이 많다.  비속어\n",
       "3                KT 채용 공고 공유합니다.   저장\n",
       "4               이 나라는 이현호가 지배한다.   저장\n",
       "5            솔직히 네카라 보다는 KT가 좋은듯   저장"
      ]
     },
     "execution_count": 23,
     "metadata": {},
     "output_type": "execute_result"
    }
   ],
   "source": [
    "pd.DataFrame({'게시글' : text, '상태' : predict})"
   ]
  },
  {
   "cell_type": "code",
   "execution_count": null,
   "id": "062a7faa-cd55-4637-9cf9-578c3779aaa9",
   "metadata": {},
   "outputs": [],
   "source": []
  },
  {
   "cell_type": "code",
   "execution_count": null,
   "id": "2c35b5b5-f068-473e-b4d8-0fc31c329bf7",
   "metadata": {},
   "outputs": [],
   "source": []
  },
  {
   "cell_type": "code",
   "execution_count": null,
   "id": "91d20d0a-9343-4687-92a5-91cd3663912a",
   "metadata": {},
   "outputs": [],
   "source": [
    "# 단문장 테스트기"
   ]
  },
  {
   "cell_type": "code",
   "execution_count": 6,
   "id": "1e6264d9-3173-4981-a0b2-7a3335461db8",
   "metadata": {},
   "outputs": [],
   "source": [
    "comment = '''\n",
    "KT 면접 다녀온 후기 말씀드려요!\n",
    "\n",
    "KT 면접 다녀 왔어요. 존나 멀어서 힘들었지만 꼭 합격 했으면 좋겠네용...\n",
    "'''"
   ]
  },
  {
   "cell_type": "code",
   "execution_count": 7,
   "id": "64fc6328-ca57-4cb3-baa3-0d217c5b4f80",
   "metadata": {},
   "outputs": [
    {
     "name": "stdout",
     "output_type": "stream",
     "text": [
      "['비속어']\n"
     ]
    }
   ],
   "source": [
    "comment = apply_preprocessing(comment) # 전처리\n",
    "comment = data_split(comment)\n",
    "\n",
    "test_inputs = vector.transform([comment])\n",
    "\n",
    "y_pred = model.predict(test_inputs)\n",
    "predict = np.where(y_pred == 1, '비속어', '저장')\n",
    "\n",
    "print(predict)"
   ]
  },
  {
   "cell_type": "code",
   "execution_count": null,
   "id": "17c6c5e1-626f-4d93-8ad1-3056daf7e8aa",
   "metadata": {},
   "outputs": [],
   "source": []
  }
 ],
 "metadata": {
  "interpreter": {
   "hash": "f08154012ddadd8e950e6e9e035c7a7b32c136e7647e9b7c77e02eb723a8bedb"
  },
  "kernelspec": {
   "display_name": "Python 3 (ipykernel)",
   "language": "python",
   "name": "python3"
  },
  "language_info": {
   "codemirror_mode": {
    "name": "ipython",
    "version": 3
   },
   "file_extension": ".py",
   "mimetype": "text/x-python",
   "name": "python",
   "nbconvert_exporter": "python",
   "pygments_lexer": "ipython3",
   "version": "3.8.8"
  }
 },
 "nbformat": 4,
 "nbformat_minor": 5
}
