{
 "cells": [
  {
   "cell_type": "raw",
   "id": "e6591871-fa80-4150-90f9-dae5c92df478",
   "metadata": {},
   "source": []
  },
  {
   "cell_type": "code",
   "execution_count": 1,
   "id": "5e106415-5057-46a3-95ec-6e3e2bb80320",
   "metadata": {},
   "outputs": [],
   "source": [
    "import re # 정규화 용\n",
    "import pandas as pd\n",
    "import numpy as np\n",
    "from sklearn.feature_extraction.text import TfidfVectorizer\n",
    "from sklearn.model_selection import train_test_split\n",
    "from Data_preprocessing import data_split\n",
    "import joblib\n",
    "from sklearn.metrics import *"
   ]
  },
  {
   "cell_type": "code",
   "execution_count": 3,
   "id": "117d8ca4-c5d2-41f6-960d-9ea02e4502ca",
   "metadata": {},
   "outputs": [],
   "source": [
    "train = pd.read_csv('hate_train.csv')\n",
    "test = pd.read_csv('hate_test.csv') \n",
    "data = pd.read_csv('hate_all.csv') \n",
    "train.drop('Unnamed: 0', axis = 1, inplace = True)\n",
    "test.drop('Unnamed: 0', axis = 1, inplace = True)\n",
    "\n",
    "\n",
    "test_x = test.drop('hate', axis = 1)\n",
    "test_y = test['hate']\n",
    "\n",
    "df_x = train.drop('hate', axis = 1)\n",
    "df_y = train['hate']"
   ]
  },
  {
   "cell_type": "code",
   "execution_count": 5,
   "id": "a213635c-13ce-4880-a6f4-72c39d2b8b3d",
   "metadata": {},
   "outputs": [],
   "source": [
    "# 쓸데없는 문자 없애는 코드\n",
    "\n",
    "def apply_preprocessing(sentence):\n",
    "    import re\n",
    "    '''\n",
    "    영어, 숫자, 한글(온전한 문자)을 제외한 나머지 제거\n",
    "    '''\n",
    "    result = ''.join(re.compile('[ㄱ-ㅎㅏ-ㅣ가-힣0-9a-zA-Z ]').\\\n",
    "             findall(sentence)).strip()\n",
    "    \n",
    "    return result"
   ]
  },
  {
   "cell_type": "code",
   "execution_count": null,
   "id": "c52221a7-c2ec-4630-80cf-823b72e2d5aa",
   "metadata": {},
   "outputs": [],
   "source": []
  },
  {
   "cell_type": "code",
   "execution_count": null,
   "id": "967add4b-008e-4f0a-84c8-4e9daa36e643",
   "metadata": {},
   "outputs": [],
   "source": [
    "# 랜덤 포레스트 모델\n",
    "from sklearn.ensemble import RandomForestClassifier\n",
    "\n",
    "x = df_x.copy()\n",
    "y = df_y.copy()\n",
    "\n",
    "x['comments'] = x['comments'].apply(apply_preprocessing) # 전처리\n",
    "\n",
    "x['comments'] = x['comments'].apply(data_split) # 전처리\n",
    "\n",
    "vectorizer = TfidfVectorizer(min_df = 0.0, analyzer = 'char', sublinear_tf = True, ngram_range = (1,3), max_features = 10000)\n",
    "\n",
    "train_inputs = vectorizer.fit_transform(x['comments'])\n",
    "train_labels = np.array(y)\n",
    "\n",
    "x_train, x_val, y_train, y_val = train_test_split(train_inputs, train_labels, test_size = 0.2, random_state = 42)\n",
    "\n",
    "rf = RandomForestClassifier(max_depth=28, min_samples_leaf=1, min_samples_split=2, n_estimators=80)\n",
    "\n",
    "rf.fit(x_train, y_train)\n",
    "\n",
    "y_pred = rf.predict(x_val)\n",
    "print(classification_report(y_val, y_pred))"
   ]
  },
  {
   "cell_type": "code",
   "execution_count": null,
   "id": "e4bde9ba-b159-4140-bd32-bb312654782f",
   "metadata": {},
   "outputs": [],
   "source": []
  },
  {
   "cell_type": "code",
   "execution_count": null,
   "id": "48f00211-a7cc-43c6-a513-df6c7b19aea2",
   "metadata": {},
   "outputs": [],
   "source": []
  },
  {
   "cell_type": "code",
   "execution_count": 6,
   "id": "3a277df1-7c6e-465e-9244-cac51512ed16",
   "metadata": {},
   "outputs": [
    {
     "name": "stderr",
     "output_type": "stream",
     "text": [
      "C:\\Users\\User\\anaconda3\\lib\\site-packages\\xgboost\\compat.py:36: FutureWarning: pandas.Int64Index is deprecated and will be removed from pandas in a future version. Use pandas.Index with the appropriate dtype instead.\n",
      "  from pandas import MultiIndex, Int64Index\n"
     ]
    },
    {
     "data": {
      "text/plain": [
       "XGBClassifier(base_score=0.5, booster='gbtree', colsample_bylevel=1,\n",
       "              colsample_bynode=1, colsample_bytree=1, enable_categorical=False,\n",
       "              eval_metric='logloss', gamma=0, gpu_id=-1, importance_type=None,\n",
       "              interaction_constraints='', learning_rate=0.5, max_delta_step=0,\n",
       "              max_depth=20, min_child_weight=1, missing=nan,\n",
       "              monotone_constraints='()', n_estimators=100, n_jobs=8,\n",
       "              num_parallel_tree=1, predictor='auto', random_state=2022,\n",
       "              reg_alpha=0, reg_lambda=1, scale_pos_weight=1, subsample=1,\n",
       "              tree_method='exact', use_label_encoder=False,\n",
       "              validate_parameters=1, verbosity=None)"
      ]
     },
     "execution_count": 6,
     "metadata": {},
     "output_type": "execute_result"
    }
   ],
   "source": [
    "# XGB 모델\n",
    "from xgboost import XGBClassifier\n",
    "\n",
    "x = df_x.copy()\n",
    "y = df_y.copy()\n",
    "\n",
    "x['comments'] = x['comments'].apply(apply_preprocessing) # 전처리\n",
    "\n",
    "x['comments'] = x['comments'].apply(data_split) # 전처리\n",
    "\n",
    "vectorizer = TfidfVectorizer(min_df = 0.0, analyzer = 'char', sublinear_tf = True, ngram_range = (1,3), max_features = 10000)\n",
    "\n",
    "train_inputs = vectorizer.fit_transform(x['comments'])\n",
    "train_labels = np.array(y)\n",
    "\n",
    "x_train, x_val, y_train, y_val = train_test_split(train_inputs, train_labels, test_size = 0.2, random_state = 42)\n",
    "\n",
    "xgb4 = XGBClassifier(max_depth=20, \n",
    "\t\t          eval_metric='logloss',  # 경고 메시지 제거\n",
    "\t                      learning_rate=0.5, \n",
    "\t                      use_label_encoder=False,\n",
    "\t                      random_state=2022)\n",
    "\n",
    "xgb4.fit(x_train, y_train)"
   ]
  },
  {
   "cell_type": "code",
   "execution_count": 7,
   "id": "aef890d0-a7a4-4362-bd17-eb6e8ac5f692",
   "metadata": {},
   "outputs": [
    {
     "name": "stdout",
     "output_type": "stream",
     "text": [
      "              precision    recall  f1-score   support\n",
      "\n",
      "           0       0.90      0.91      0.91      2165\n",
      "           1       0.91      0.90      0.90      2004\n",
      "\n",
      "    accuracy                           0.91      4169\n",
      "   macro avg       0.91      0.91      0.91      4169\n",
      "weighted avg       0.91      0.91      0.91      4169\n",
      "\n"
     ]
    }
   ],
   "source": [
    "y_pred = xgb4.predict(x_val)\n",
    "print(classification_report(y_val, y_pred))"
   ]
  },
  {
   "cell_type": "code",
   "execution_count": 8,
   "id": "bb177cca-5bcb-43a9-97e8-7a0b0401a079",
   "metadata": {},
   "outputs": [
    {
     "name": "stdout",
     "output_type": "stream",
     "text": [
      "              precision    recall  f1-score   support\n",
      "\n",
      "           0       0.89      0.90      0.90      1779\n",
      "           1       0.91      0.89      0.90      1900\n",
      "\n",
      "    accuracy                           0.90      3679\n",
      "   macro avg       0.90      0.90      0.90      3679\n",
      "weighted avg       0.90      0.90      0.90      3679\n",
      "\n"
     ]
    }
   ],
   "source": [
    "test_x['comments'] = test_x['comments'].apply(apply_preprocessing) # 전처리\n",
    "\n",
    "test_x['comments'] = test_x['comments'].apply(data_split) # 전처리\n",
    "\n",
    "test_x = vectorizer.transform(test_x['comments'])\n",
    "test_y = np.array(test_y)\n",
    "\n",
    "y_pred = xgb4.predict(test_x)\n",
    "print(classification_report(test_y, y_pred))"
   ]
  },
  {
   "cell_type": "code",
   "execution_count": null,
   "id": "8cbb0ee3-95c9-4547-975f-bf9dbc627908",
   "metadata": {},
   "outputs": [],
   "source": []
  },
  {
   "cell_type": "code",
   "execution_count": null,
   "id": "7cbac686-7e0c-46c3-88d9-342169901b6c",
   "metadata": {},
   "outputs": [],
   "source": [
    "# 최종 XGB 모델 선정"
   ]
  },
  {
   "cell_type": "code",
   "execution_count": 14,
   "id": "428575fd-498f-43ea-9830-581090ebba54",
   "metadata": {},
   "outputs": [
    {
     "data": {
      "text/plain": [
       "['vector.pkl']"
      ]
     },
     "execution_count": 14,
     "metadata": {},
     "output_type": "execute_result"
    }
   ],
   "source": [
    "import joblib\n",
    "\n",
    "joblib.dump(xgb4, 'xgb.pkl')\n",
    "joblib.dump(vectorizer, 'vector.pkl')"
   ]
  },
  {
   "cell_type": "code",
   "execution_count": 12,
   "id": "2f5b00f1-d5d8-4a07-9b0a-ccd07c4fe2f8",
   "metadata": {},
   "outputs": [
    {
     "name": "stdout",
     "output_type": "stream",
     "text": [
      "              precision    recall  f1-score   support\n",
      "\n",
      "           0       0.89      0.90      0.90      1779\n",
      "           1       0.91      0.89      0.90      1900\n",
      "\n",
      "    accuracy                           0.90      3679\n",
      "   macro avg       0.90      0.90      0.90      3679\n",
      "weighted avg       0.90      0.90      0.90      3679\n",
      "\n"
     ]
    }
   ],
   "source": [
    "model = joblib.load('xgb.pkl')\n",
    "y_pred = model.predict(test_x)\n",
    "print(classification_report(test_y, y_pred))"
   ]
  },
  {
   "cell_type": "code",
   "execution_count": null,
   "id": "b792897d-b156-45ca-a363-647913a2c246",
   "metadata": {},
   "outputs": [],
   "source": []
  },
  {
   "cell_type": "code",
   "execution_count": null,
   "id": "dbc27595-63e4-41f5-a208-3b6db8688054",
   "metadata": {},
   "outputs": [],
   "source": []
  }
 ],
 "metadata": {
  "kernelspec": {
   "display_name": "Python 3 (ipykernel)",
   "language": "python",
   "name": "python3"
  },
  "language_info": {
   "codemirror_mode": {
    "name": "ipython",
    "version": 3
   },
   "file_extension": ".py",
   "mimetype": "text/x-python",
   "name": "python",
   "nbconvert_exporter": "python",
   "pygments_lexer": "ipython3",
   "version": "3.8.8"
  }
 },
 "nbformat": 4,
 "nbformat_minor": 5
}
